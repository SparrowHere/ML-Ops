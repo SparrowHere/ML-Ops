{
 "cells": [
  {
   "cell_type": "code",
   "execution_count": 1,
   "metadata": {},
   "outputs": [],
   "source": [
    "import torch\n",
    "from torchvision import (\n",
    "    datasets,\n",
    "    transforms\n",
    ")\n",
    "from torch.utils import data\n",
    "\n",
    "import matplotlib.pyplot as plt\n",
    "import seaborn as sns\n",
    "\n",
    "plt.style.use(\"seaborn-v0_8\")\n",
    "plt.rcParams[\"font.family\"] = \"monospace\""
   ]
  },
  {
   "cell_type": "code",
   "execution_count": 2,
   "metadata": {},
   "outputs": [
    {
     "name": "stdout",
     "output_type": "stream",
     "text": [
      "CUDA found, bounding...\n"
     ]
    }
   ],
   "source": [
    "if torch.cuda.is_available():\n",
    "    print(\"CUDA found, bounding...\")\n",
    "    DEVICE = torch.device('cuda:0')\n",
    "else:\n",
    "    print(\"NO CUDA found, bounding to CPU...\")\n",
    "    DEVICE = torch.device('cpu')"
   ]
  },
  {
   "cell_type": "code",
   "execution_count": 3,
   "metadata": {},
   "outputs": [
    {
     "data": {
      "text/plain": [
       "_CudaDeviceProperties(name='NVIDIA GeForce GTX 1650', major=7, minor=5, total_memory=4095MB, multi_processor_count=16)"
      ]
     },
     "execution_count": 3,
     "metadata": {},
     "output_type": "execute_result"
    }
   ],
   "source": [
    "torch.cuda.get_device_properties(DEVICE)"
   ]
  },
  {
   "cell_type": "code",
   "execution_count": 4,
   "metadata": {},
   "outputs": [],
   "source": [
    "DTYPE = torch.float32"
   ]
  },
  {
   "cell_type": "markdown",
   "metadata": {},
   "source": [
    "# Elementwise Operations\n",
    "A: (M, N)\n",
    "B: (M, N)\n",
    "Result: (M, N)\n",
    "\n",
    "-> Shapes MUST match\n",
    "Every elements is --operation-- in the same location\n",
    "ADDING, SUBTRACTING, MULTIPLYING, DIVIDING etc..."
   ]
  },
  {
   "cell_type": "code",
   "execution_count": 5,
   "metadata": {},
   "outputs": [
    {
     "data": {
      "text/plain": [
       "(tensor([[0.0728, 0.4616, 0.5291, 0.8198, 0.3602],\n",
       "         [0.5139, 0.2587, 0.5460, 0.2750, 0.1266],\n",
       "         [0.6231, 0.6601, 0.9001, 0.2673, 0.1146],\n",
       "         [0.8004, 0.7444, 0.1266, 0.1549, 0.3384],\n",
       "         [0.9149, 0.9257, 0.4855, 0.5305, 0.7519]], device='cuda:0'),\n",
       " torch.Size([5, 5]))"
      ]
     },
     "execution_count": 5,
     "metadata": {},
     "output_type": "execute_result"
    }
   ],
   "source": [
    "A = torch.rand((5, 5), dtype=DTYPE, device=DEVICE)\n",
    "A, A.shape"
   ]
  },
  {
   "cell_type": "code",
   "execution_count": 6,
   "metadata": {},
   "outputs": [
    {
     "data": {
      "text/plain": [
       "(tensor([[0.5916, 0.8713, 0.7500, 0.6825, 0.6431],\n",
       "         [0.8006, 0.4907, 0.2482, 0.0362, 0.0552],\n",
       "         [0.4742, 0.4735, 0.8756, 0.8402, 0.5302],\n",
       "         [0.3152, 0.0488, 0.8205, 0.7962, 0.6095],\n",
       "         [0.9069, 0.8260, 0.3349, 0.0318, 0.3484]], device='cuda:0'),\n",
       " torch.Size([5, 5]))"
      ]
     },
     "execution_count": 6,
     "metadata": {},
     "output_type": "execute_result"
    }
   ],
   "source": [
    "B = torch.rand((5, 5), dtype=DTYPE, device=DEVICE)\n",
    "B, B.shape"
   ]
  },
  {
   "cell_type": "code",
   "execution_count": 9,
   "metadata": {},
   "outputs": [
    {
     "data": {
      "text/plain": [
       "(tensor([[0.6644, 1.3330, 1.2791, 1.5023, 1.0033],\n",
       "         [1.3145, 0.7494, 0.7942, 0.3112, 0.1818],\n",
       "         [1.0973, 1.1335, 1.7756, 1.1075, 0.6448],\n",
       "         [1.1157, 0.7932, 0.9471, 0.9512, 0.9479],\n",
       "         [1.8218, 1.7517, 0.8204, 0.5623, 1.1004]], device='cuda:0'),\n",
       " torch.Size([5, 5]))"
      ]
     },
     "execution_count": 9,
     "metadata": {},
     "output_type": "execute_result"
    }
   ],
   "source": [
    "# Adding\n",
    "AB = A + B\n",
    "AB, AB.shape"
   ]
  },
  {
   "cell_type": "code",
   "execution_count": 10,
   "metadata": {},
   "outputs": [
    {
     "data": {
      "text/plain": [
       "tensor(True, device='cuda:0')"
      ]
     },
     "execution_count": 10,
     "metadata": {},
     "output_type": "execute_result"
    }
   ],
   "source": [
    "(A + B).all() == torch.add(A, B).all()"
   ]
  },
  {
   "cell_type": "code",
   "execution_count": 12,
   "metadata": {},
   "outputs": [
    {
     "data": {
      "text/plain": [
       "(tensor([[-0.5188, -0.4097, -0.2209,  0.1373, -0.2829],\n",
       "         [-0.2867, -0.2319,  0.2979,  0.2388,  0.0714],\n",
       "         [ 0.1489,  0.1866,  0.0245, -0.5729, -0.4156],\n",
       "         [ 0.4852,  0.6957, -0.6939, -0.6413, -0.2711],\n",
       "         [ 0.0081,  0.0998,  0.1505,  0.4987,  0.4035]], device='cuda:0'),\n",
       " torch.Size([5, 5]))"
      ]
     },
     "execution_count": 12,
     "metadata": {},
     "output_type": "execute_result"
    }
   ],
   "source": [
    "# Subtracting\n",
    "AB = torch.sub(A, B)\n",
    "AB, AB.shape"
   ]
  },
  {
   "cell_type": "code",
   "execution_count": 13,
   "metadata": {},
   "outputs": [
    {
     "data": {
      "text/plain": [
       "tensor(True, device='cuda:0')"
      ]
     },
     "execution_count": 13,
     "metadata": {},
     "output_type": "execute_result"
    }
   ],
   "source": [
    "torch.sub(A, B).all() == (A - B).all()"
   ]
  },
  {
   "cell_type": "code",
   "execution_count": 15,
   "metadata": {},
   "outputs": [
    {
     "data": {
      "text/plain": [
       "(tensor([[0.0431, 0.4023, 0.3969, 0.5596, 0.2317],\n",
       "         [0.4114, 0.1270, 0.1355, 0.0100, 0.0070],\n",
       "         [0.2954, 0.3125, 0.7881, 0.2246, 0.0608],\n",
       "         [0.2523, 0.0363, 0.1039, 0.1234, 0.2063],\n",
       "         [0.8297, 0.7646, 0.1626, 0.0169, 0.2620]], device='cuda:0'),\n",
       " torch.Size([5, 5]))"
      ]
     },
     "execution_count": 15,
     "metadata": {},
     "output_type": "execute_result"
    }
   ],
   "source": [
    "# Multiplying\n",
    "AB = torch.mul(A, B)\n",
    "AB, AB.shape"
   ]
  },
  {
   "cell_type": "code",
   "execution_count": 19,
   "metadata": {},
   "outputs": [
    {
     "data": {
      "text/plain": [
       "tensor(True, device='cuda:0')"
      ]
     },
     "execution_count": 19,
     "metadata": {},
     "output_type": "execute_result"
    }
   ],
   "source": [
    "torch.mul(A, B).all() == (A * B).all()"
   ]
  },
  {
   "cell_type": "code",
   "execution_count": 21,
   "metadata": {},
   "outputs": [
    {
     "data": {
      "text/plain": [
       "(tensor([[ 0.1231,  0.5298,  0.7055,  1.2011,  0.5601],\n",
       "         [ 0.6419,  0.5273,  2.2002,  7.5961,  2.2938],\n",
       "         [ 1.3140,  1.3941,  1.0279,  0.3182,  0.2162],\n",
       "         [ 2.5391, 15.2641,  0.1543,  0.1946,  0.5552],\n",
       "         [ 1.0089,  1.1208,  1.4495, 16.6668,  2.1580]], device='cuda:0'),\n",
       " torch.Size([5, 5]))"
      ]
     },
     "execution_count": 21,
     "metadata": {},
     "output_type": "execute_result"
    }
   ],
   "source": [
    "# Dividing\n",
    "AB = torch.div(A, B)\n",
    "AB, AB.shape"
   ]
  },
  {
   "cell_type": "code",
   "execution_count": 22,
   "metadata": {},
   "outputs": [
    {
     "data": {
      "text/plain": [
       "tensor(True, device='cuda:0')"
      ]
     },
     "execution_count": 22,
     "metadata": {},
     "output_type": "execute_result"
    }
   ],
   "source": [
    "torch.div(A, B).all() == (A / B).all()"
   ]
  },
  {
   "cell_type": "code",
   "execution_count": 24,
   "metadata": {},
   "outputs": [
    {
     "data": {
      "text/plain": [
       "tensor([[1.0755, 1.5867, 1.6975, 2.2701, 1.4336],\n",
       "        [1.6718, 1.2953, 1.7264, 1.3165, 1.1349],\n",
       "        [1.8647, 1.9349, 2.4597, 1.3064, 1.1214],\n",
       "        [2.2265, 2.1053, 1.1350, 1.1676, 1.4027],\n",
       "        [2.4966, 2.5237, 1.6249, 1.6997, 2.1211]], device='cuda:0')"
      ]
     },
     "execution_count": 24,
     "metadata": {},
     "output_type": "execute_result"
    }
   ],
   "source": [
    "# Exponential\n",
    "torch.e ** A"
   ]
  },
  {
   "cell_type": "code",
   "execution_count": 26,
   "metadata": {},
   "outputs": [
    {
     "data": {
      "text/plain": [
       "tensor(True, device='cuda:0')"
      ]
     },
     "execution_count": 26,
     "metadata": {},
     "output_type": "execute_result"
    }
   ],
   "source": [
    "torch.exp(A).all() == (torch.e ** A).all()"
   ]
  },
  {
   "cell_type": "code",
   "execution_count": 28,
   "metadata": {},
   "outputs": [
    {
     "data": {
      "text/plain": [
       "tensor([[0.2698, 0.6794, 0.7274, 0.9054, 0.6002],\n",
       "        [0.7169, 0.5087, 0.7389, 0.5244, 0.3558],\n",
       "        [0.7894, 0.8124, 0.9487, 0.5170, 0.3385],\n",
       "        [0.8947, 0.8628, 0.3558, 0.3936, 0.5817],\n",
       "        [0.9565, 0.9621, 0.6968, 0.7283, 0.8671]], device='cuda:0')"
      ]
     },
     "execution_count": 28,
     "metadata": {},
     "output_type": "execute_result"
    }
   ],
   "source": [
    "# Square Root\n",
    "A ** .5"
   ]
  },
  {
   "cell_type": "code",
   "execution_count": 29,
   "metadata": {},
   "outputs": [
    {
     "data": {
      "text/plain": [
       "tensor(True, device='cuda:0')"
      ]
     },
     "execution_count": 29,
     "metadata": {},
     "output_type": "execute_result"
    }
   ],
   "source": [
    "torch.sqrt(A).all() == (A ** .5).all()"
   ]
  },
  {
   "cell_type": "markdown",
   "metadata": {},
   "source": [
    "What happens if shapes DO NOT MATCH?\n",
    "\n",
    "v: (N) -> N elements\n",
    "M: (M, N) -> M rows, N columns\n",
    "\n",
    "Broadcasting -> \"Strecthing\" a lower dimension so it matches with the other.\n",
    "\n",
    "V: (M, N)\n",
    "\n",
    "EXAMPLE\n",
    "\n",
    "v: [[0., 1., 2., 3., 4.]] -> (1, 5)\n",
    "\n",
    "M: [0., 1., 2., 0., 5.], -> (3, 5)\n",
    "   [3., 0., 1., 1., 1.],\n",
    "   [10., 3., 2., 1., 4.]\n",
    "\n",
    "After Broadcasting:\n",
    "\n",
    "V: [0., 1., 2., 3., 4.], -> (3, 5)\n",
    "   [0., 1., 2., 3., 4.],\n",
    "   [0., 1., 2., 3., 4.]\n",
    "\n",
    "Result:\n",
    "\n",
    "[0., 1., 4., 0., 20.],\n",
    "[0., 0., 2., 3., 4.],\n",
    "[0., 3., 4., 3., 16.]"
   ]
  },
  {
   "cell_type": "code",
   "execution_count": 30,
   "metadata": {},
   "outputs": [
    {
     "data": {
      "text/plain": [
       "(tensor([0., 1., 2., 3., 4.], device='cuda:0'), torch.Size([5]), 1)"
      ]
     },
     "execution_count": 30,
     "metadata": {},
     "output_type": "execute_result"
    }
   ],
   "source": [
    "v = torch.arange(0, 5, 1, dtype=DTYPE, device=DEVICE)\n",
    "v, v.shape, v.ndim"
   ]
  },
  {
   "cell_type": "code",
   "execution_count": 31,
   "metadata": {},
   "outputs": [
    {
     "data": {
      "text/plain": [
       "(tensor([[ 0.,  1.,  2.,  0.,  5.],\n",
       "         [ 3.,  0.,  1.,  1.,  1.],\n",
       "         [10.,  3.,  2.,  1.,  4.]], device='cuda:0'),\n",
       " torch.Size([3, 5]),\n",
       " 2)"
      ]
     },
     "execution_count": 31,
     "metadata": {},
     "output_type": "execute_result"
    }
   ],
   "source": [
    "M = torch.tensor([\n",
    "    [0., 1., 2., 0., 5.],\n",
    "    [3., 0., 1., 1., 1.],\n",
    "    [10., 3., 2., 1., 4.]\n",
    "], dtype=DTYPE, device=DEVICE)\n",
    "M, M.shape, M.ndim"
   ]
  },
  {
   "cell_type": "code",
   "execution_count": 32,
   "metadata": {},
   "outputs": [
    {
     "data": {
      "text/plain": [
       "(tensor([[ 0.,  1.,  4.,  0., 20.],\n",
       "         [ 0.,  0.,  2.,  3.,  4.],\n",
       "         [ 0.,  3.,  4.,  3., 16.]], device='cuda:0'),\n",
       " torch.Size([3, 5]),\n",
       " 2)"
      ]
     },
     "execution_count": 32,
     "metadata": {},
     "output_type": "execute_result"
    }
   ],
   "source": [
    "Mv = torch.mul(M, v)\n",
    "Mv, Mv.shape, Mv.ndim"
   ]
  },
  {
   "cell_type": "markdown",
   "metadata": {},
   "source": [
    "# Transpose of a Tensor\n",
    "A: (M, N) -> M rows, N columns\n",
    "\n",
    "Transposing: Swaping dimensions with each other.\n",
    "(Rows become Columns, Columns become Rows)\n",
    "\n",
    "A.T: (N, M)"
   ]
  },
  {
   "cell_type": "code",
   "execution_count": 33,
   "metadata": {},
   "outputs": [
    {
     "data": {
      "text/plain": [
       "(tensor([[ 0.,  1.,  2.,  0.,  5.],\n",
       "         [ 3.,  0.,  1.,  1.,  1.],\n",
       "         [10.,  3.,  2.,  1.,  4.]], device='cuda:0'),\n",
       " torch.Size([3, 5]))"
      ]
     },
     "execution_count": 33,
     "metadata": {},
     "output_type": "execute_result"
    }
   ],
   "source": [
    "M, M.shape"
   ]
  },
  {
   "cell_type": "code",
   "execution_count": 34,
   "metadata": {},
   "outputs": [
    {
     "data": {
      "text/plain": [
       "(tensor([[ 0.,  3., 10.],\n",
       "         [ 1.,  0.,  3.],\n",
       "         [ 2.,  1.,  2.],\n",
       "         [ 0.,  1.,  1.],\n",
       "         [ 5.,  1.,  4.]], device='cuda:0'),\n",
       " torch.Size([5, 3]))"
      ]
     },
     "execution_count": 34,
     "metadata": {},
     "output_type": "execute_result"
    }
   ],
   "source": [
    "MT = M.T\n",
    "MT, MT.shape"
   ]
  },
  {
   "cell_type": "code",
   "execution_count": 35,
   "metadata": {},
   "outputs": [
    {
     "data": {
      "text/plain": [
       "(tensor([0., 1., 2., 3., 4.], device='cuda:0'), torch.Size([5]))"
      ]
     },
     "execution_count": 35,
     "metadata": {},
     "output_type": "execute_result"
    }
   ],
   "source": [
    "v, v.shape"
   ]
  },
  {
   "cell_type": "code",
   "execution_count": 42,
   "metadata": {},
   "outputs": [
    {
     "data": {
      "text/plain": [
       "(tensor([[0., 1., 2., 3., 4.]], device='cuda:0'), torch.Size([1, 5]), 2)"
      ]
     },
     "execution_count": 42,
     "metadata": {},
     "output_type": "execute_result"
    }
   ],
   "source": [
    "v = v.reshape(1, 5)\n",
    "v, v.shape, v.ndim"
   ]
  },
  {
   "cell_type": "code",
   "execution_count": 43,
   "metadata": {},
   "outputs": [
    {
     "data": {
      "text/plain": [
       "(tensor([[0.],\n",
       "         [1.],\n",
       "         [2.],\n",
       "         [3.],\n",
       "         [4.]], device='cuda:0'),\n",
       " torch.Size([5, 1]),\n",
       " 2)"
      ]
     },
     "execution_count": 43,
     "metadata": {},
     "output_type": "execute_result"
    }
   ],
   "source": [
    "vT = v.T\n",
    "vT, vT.shape, vT.ndim"
   ]
  }
 ],
 "metadata": {
  "kernelspec": {
   "display_name": "torch",
   "language": "python",
   "name": "python3"
  },
  "language_info": {
   "codemirror_mode": {
    "name": "ipython",
    "version": 3
   },
   "file_extension": ".py",
   "mimetype": "text/x-python",
   "name": "python",
   "nbconvert_exporter": "python",
   "pygments_lexer": "ipython3",
   "version": "3.12.4"
  }
 },
 "nbformat": 4,
 "nbformat_minor": 2
}
