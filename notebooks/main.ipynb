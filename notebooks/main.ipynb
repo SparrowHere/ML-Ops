{
 "cells": [
  {
   "cell_type": "code",
   "execution_count": 1,
   "metadata": {},
   "outputs": [],
   "source": [
    "import torch\n",
    "from torchvision import (\n",
    "    datasets,\n",
    "    transforms\n",
    ")\n",
    "from torch.utils import data\n",
    "\n",
    "import matplotlib.pyplot as plt\n",
    "import seaborn as sns\n",
    "\n",
    "plt.style.use(\"seaborn-v0_8\")\n",
    "plt.rcParams[\"font.family\"] = \"monospace\""
   ]
  },
  {
   "cell_type": "code",
   "execution_count": 2,
   "metadata": {},
   "outputs": [
    {
     "name": "stdout",
     "output_type": "stream",
     "text": [
      "CUDA found, bounding...\n"
     ]
    }
   ],
   "source": [
    "if torch.cuda.is_available():\n",
    "    print(\"CUDA found, bounding...\")\n",
    "    DEVICE = torch.device('cuda:0')\n",
    "else:\n",
    "    print(\"NO CUDA found, bounding to CPU...\")\n",
    "    DEVICE = torch.device('cpu')"
   ]
  },
  {
   "cell_type": "code",
   "execution_count": 3,
   "metadata": {},
   "outputs": [
    {
     "data": {
      "text/plain": [
       "_CudaDeviceProperties(name='NVIDIA GeForce RTX 4060 Laptop GPU', major=8, minor=9, total_memory=8187MB, multi_processor_count=24)"
      ]
     },
     "execution_count": 3,
     "metadata": {},
     "output_type": "execute_result"
    }
   ],
   "source": [
    "torch.cuda.get_device_properties(DEVICE)"
   ]
  },
  {
   "cell_type": "code",
   "execution_count": 4,
   "metadata": {},
   "outputs": [],
   "source": [
    "DTYPE = torch.float32"
   ]
  },
  {
   "cell_type": "markdown",
   "metadata": {},
   "source": [
    "Arithmetic Operations\n",
    "-> Elementwise Operations => Between two elements of two tensors (index/location matters)\n",
    "* ADDING, SUBTRACTING, MULTIPLYING, DIVIDING\n",
    "( ! ) Same sized/Shaped Tensors"
   ]
  },
  {
   "cell_type": "code",
   "execution_count": 10,
   "metadata": {},
   "outputs": [
    {
     "data": {
      "text/plain": [
       "(tensor([[0.6055, 0.4606, 0.7555, 0.7673, 0.8293],\n",
       "         [0.2140, 0.7832, 0.1364, 0.5822, 0.7886],\n",
       "         [0.7660, 0.5519, 0.3378, 0.4343, 0.8945],\n",
       "         [0.9205, 0.4017, 0.4399, 0.9196, 0.9024],\n",
       "         [0.2814, 0.2968, 0.9291, 0.7122, 0.7486]], device='cuda:0'),\n",
       " torch.Size([5, 5]))"
      ]
     },
     "execution_count": 10,
     "metadata": {},
     "output_type": "execute_result"
    }
   ],
   "source": [
    "A = torch.rand((5, 5), dtype=DTYPE, device=DEVICE)\n",
    "A, A.shape"
   ]
  },
  {
   "cell_type": "code",
   "execution_count": 11,
   "metadata": {},
   "outputs": [
    {
     "data": {
      "text/plain": [
       "(tensor([[0.6139, 0.1199, 0.9283, 0.1613, 0.4278],\n",
       "         [0.7453, 0.8040, 0.2216, 0.6554, 0.6120],\n",
       "         [0.9504, 0.3979, 0.0540, 0.3131, 0.1012],\n",
       "         [0.4855, 0.4938, 0.4480, 0.8944, 0.9936],\n",
       "         [0.7357, 0.1531, 0.1091, 0.3037, 0.1201]], device='cuda:0'),\n",
       " torch.Size([5, 5]))"
      ]
     },
     "execution_count": 11,
     "metadata": {},
     "output_type": "execute_result"
    }
   ],
   "source": [
    "B = torch.rand((5, 5), dtype=DTYPE, device=DEVICE)\n",
    "B, B.shape"
   ]
  },
  {
   "cell_type": "code",
   "execution_count": 13,
   "metadata": {},
   "outputs": [
    {
     "data": {
      "text/plain": [
       "1.2194"
      ]
     },
     "execution_count": 13,
     "metadata": {},
     "output_type": "execute_result"
    }
   ],
   "source": [
    ".6055 + .6139"
   ]
  },
  {
   "cell_type": "code",
   "execution_count": 12,
   "metadata": {},
   "outputs": [
    {
     "data": {
      "text/plain": [
       "(tensor([[1.2195, 0.5805, 1.6838, 0.9286, 1.2571],\n",
       "         [0.9593, 1.5871, 0.3580, 1.2375, 1.4006],\n",
       "         [1.7164, 0.9498, 0.3918, 0.7474, 0.9957],\n",
       "         [1.4061, 0.8955, 0.8878, 1.8141, 1.8960],\n",
       "         [1.0172, 0.4499, 1.0382, 1.0159, 0.8688]], device='cuda:0'),\n",
       " torch.Size([5, 5]))"
      ]
     },
     "execution_count": 12,
     "metadata": {},
     "output_type": "execute_result"
    }
   ],
   "source": [
    "#-Addıng\n",
    "AB = torch.add(A, B)\n",
    "AB, AB.shape"
   ]
  },
  {
   "cell_type": "code",
   "execution_count": 16,
   "metadata": {},
   "outputs": [
    {
     "data": {
      "text/plain": [
       "tensor(True, device='cuda:0')"
      ]
     },
     "execution_count": 16,
     "metadata": {},
     "output_type": "execute_result"
    }
   ],
   "source": [
    "torch.add(A, B).all() == (A + B).all()"
   ]
  },
  {
   "cell_type": "code",
   "execution_count": 18,
   "metadata": {},
   "outputs": [
    {
     "data": {
      "text/plain": [
       "-0.008399999999999963"
      ]
     },
     "execution_count": 18,
     "metadata": {},
     "output_type": "execute_result"
    }
   ],
   "source": [
    ".6055 - .6139"
   ]
  },
  {
   "cell_type": "code",
   "execution_count": 17,
   "metadata": {},
   "outputs": [
    {
     "data": {
      "text/plain": [
       "(tensor([[-0.0084,  0.3407, -0.1728,  0.6060,  0.4015],\n",
       "         [-0.5313, -0.0208, -0.0851, -0.0732,  0.1766],\n",
       "         [-0.1844,  0.1540,  0.2837,  0.1213,  0.7934],\n",
       "         [ 0.4350, -0.0922, -0.0081,  0.0252, -0.0912],\n",
       "         [-0.4543,  0.1437,  0.8200,  0.4085,  0.6285]], device='cuda:0'),\n",
       " torch.Size([5, 5]))"
      ]
     },
     "execution_count": 17,
     "metadata": {},
     "output_type": "execute_result"
    }
   ],
   "source": [
    "# Subtracting\n",
    "AB = torch.sub(A, B)\n",
    "AB, AB.shape"
   ]
  },
  {
   "cell_type": "code",
   "execution_count": 19,
   "metadata": {},
   "outputs": [
    {
     "data": {
      "text/plain": [
       "tensor([[-0.0084,  0.3407, -0.1728,  0.6060,  0.4015],\n",
       "        [-0.5313, -0.0208, -0.0851, -0.0732,  0.1766],\n",
       "        [-0.1844,  0.1540,  0.2837,  0.1213,  0.7934],\n",
       "        [ 0.4350, -0.0922, -0.0081,  0.0252, -0.0912],\n",
       "        [-0.4543,  0.1437,  0.8200,  0.4085,  0.6285]], device='cuda:0')"
      ]
     },
     "execution_count": 19,
     "metadata": {},
     "output_type": "execute_result"
    }
   ],
   "source": [
    "AB = A - B\n",
    "AB"
   ]
  },
  {
   "cell_type": "code",
   "execution_count": 20,
   "metadata": {},
   "outputs": [
    {
     "data": {
      "text/plain": [
       "tensor(True, device='cuda:0')"
      ]
     },
     "execution_count": 20,
     "metadata": {},
     "output_type": "execute_result"
    }
   ],
   "source": [
    "torch.sub(A, B).all() == (A - B).all()"
   ]
  },
  {
   "cell_type": "code",
   "execution_count": 23,
   "metadata": {},
   "outputs": [
    {
     "data": {
      "text/plain": [
       "tensor([[0.3718, 0.0552, 0.7013, 0.1237, 0.3548],\n",
       "        [0.1595, 0.6296, 0.0302, 0.3815, 0.4826],\n",
       "        [0.7280, 0.2196, 0.0182, 0.1360, 0.0905],\n",
       "        [0.4469, 0.1984, 0.1970, 0.8226, 0.8966],\n",
       "        [0.2071, 0.0454, 0.1014, 0.2163, 0.0899]], device='cuda:0')"
      ]
     },
     "execution_count": 23,
     "metadata": {},
     "output_type": "execute_result"
    }
   ],
   "source": [
    "# Multiplying\n",
    "AB = torch.mul(A, B)\n",
    "AB"
   ]
  },
  {
   "cell_type": "code",
   "execution_count": 22,
   "metadata": {},
   "outputs": [
    {
     "data": {
      "text/plain": [
       "tensor([[0.3718, 0.0552, 0.7013, 0.1237, 0.3548],\n",
       "        [0.1595, 0.6296, 0.0302, 0.3815, 0.4826],\n",
       "        [0.7280, 0.2196, 0.0182, 0.1360, 0.0905],\n",
       "        [0.4469, 0.1984, 0.1970, 0.8226, 0.8966],\n",
       "        [0.2071, 0.0454, 0.1014, 0.2163, 0.0899]], device='cuda:0')"
      ]
     },
     "execution_count": 22,
     "metadata": {},
     "output_type": "execute_result"
    }
   ],
   "source": [
    "A * B"
   ]
  },
  {
   "cell_type": "code",
   "execution_count": 24,
   "metadata": {},
   "outputs": [
    {
     "data": {
      "text/plain": [
       "0.37171645000000003"
      ]
     },
     "execution_count": 24,
     "metadata": {},
     "output_type": "execute_result"
    }
   ],
   "source": [
    ".6055 * .6139"
   ]
  },
  {
   "cell_type": "code",
   "execution_count": 26,
   "metadata": {},
   "outputs": [
    {
     "data": {
      "text/plain": [
       "tensor([[0.9863, 3.8408, 0.8139, 4.7580, 1.9384],\n",
       "        [0.2872, 0.9741, 0.6157, 0.8883, 1.2885],\n",
       "        [0.8060, 1.3870, 6.2517, 1.3873, 8.8431],\n",
       "        [1.8960, 0.8133, 0.9819, 1.0282, 0.9082],\n",
       "        [0.3825, 1.9387, 8.5129, 2.3449, 6.2325]], device='cuda:0')"
      ]
     },
     "execution_count": 26,
     "metadata": {},
     "output_type": "execute_result"
    }
   ],
   "source": [
    "# Dividing\n",
    "AB = torch.div(A, B)\n",
    "AB"
   ]
  },
  {
   "cell_type": "code",
   "execution_count": 27,
   "metadata": {},
   "outputs": [
    {
     "data": {
      "text/plain": [
       "0.9863169897377424"
      ]
     },
     "execution_count": 27,
     "metadata": {},
     "output_type": "execute_result"
    }
   ],
   "source": [
    ".6055 / .6139"
   ]
  },
  {
   "cell_type": "code",
   "execution_count": 28,
   "metadata": {},
   "outputs": [
    {
     "data": {
      "text/plain": [
       "tensor([[0.9863, 3.8408, 0.8139, 4.7580, 1.9384],\n",
       "        [0.2872, 0.9741, 0.6157, 0.8883, 1.2885],\n",
       "        [0.8060, 1.3870, 6.2517, 1.3873, 8.8431],\n",
       "        [1.8960, 0.8133, 0.9819, 1.0282, 0.9082],\n",
       "        [0.3825, 1.9387, 8.5129, 2.3449, 6.2325]], device='cuda:0')"
      ]
     },
     "execution_count": 28,
     "metadata": {},
     "output_type": "execute_result"
    }
   ],
   "source": [
    "A / B"
   ]
  },
  {
   "cell_type": "markdown",
   "metadata": {},
   "source": [
    "BROADCASTING\n",
    "-> Same SHAPE Tensors\n",
    "* What if they are not the same?\n",
    "Vector - Matrix (1D - 2D tensors)"
   ]
  },
  {
   "cell_type": "code",
   "execution_count": 33,
   "metadata": {},
   "outputs": [
    {
     "data": {
      "text/plain": [
       "(tensor([ 1.,  3.,  0.,  5., 10.], device='cuda:0'), torch.Size([5]), 1)"
      ]
     },
     "execution_count": 33,
     "metadata": {},
     "output_type": "execute_result"
    }
   ],
   "source": [
    "v = torch.tensor([1, 3, 0, 5, 10], dtype=DTYPE, device=DEVICE)\n",
    "v, v.shape, v.ndim"
   ]
  },
  {
   "cell_type": "code",
   "execution_count": 35,
   "metadata": {},
   "outputs": [
    {
     "data": {
      "text/plain": [
       "(tensor([[ 1.,  1.,  2.,  2.,  3.],\n",
       "         [ 0.,  0.,  5.,  4.,  0.],\n",
       "         [10.,  0.,  1.,  1.,  5.]], device='cuda:0'),\n",
       " torch.Size([3, 5]),\n",
       " 2)"
      ]
     },
     "execution_count": 35,
     "metadata": {},
     "output_type": "execute_result"
    }
   ],
   "source": [
    "M = torch.tensor([\n",
    "    [1, 1, 2, 2, 3],\n",
    "    [0, 0, 5, 4, 0],\n",
    "    [10, 0, 1, 1, 5]], dtype=DTYPE, device=DEVICE)\n",
    "M, M.shape, M.ndim"
   ]
  },
  {
   "cell_type": "code",
   "execution_count": 42,
   "metadata": {},
   "outputs": [
    {
     "data": {
      "text/plain": [
       "tensor([[ 1.,  3.,  0., 10., 30.],\n",
       "        [ 0.,  0.,  0., 20.,  0.],\n",
       "        [10.,  0.,  0.,  5., 50.]], device='cuda:0')"
      ]
     },
     "execution_count": 42,
     "metadata": {},
     "output_type": "execute_result"
    }
   ],
   "source": [
    "Mv = torch.mul(M, v)\n",
    "Mv"
   ]
  },
  {
   "cell_type": "markdown",
   "metadata": {},
   "source": [
    "Broadcasting for 1D - 2D Tensors\n",
    "\n",
    "v = [ 1.,  3.,  0.,  5., 10.]\n",
    "\n",
    "M = [ 1.,  1.,  2.,  2.,  3.],\n",
    "    [ 0.,  0.,  5.,  4.,  0.],\n",
    "    [10.,  0.,  1.,  1.,  5.]\n",
    "    \n",
    "v -> V = [ 1.,  3.,  0.,  5., 10.]\n",
    "         [ 1.,  3.,  0.,  5., 10.]\n",
    "         [ 1.,  3.,  0.,  5., 10.]\n",
    "\n",
    "[1., 3., 0., 10., 30.],\n",
    "[0., 0., 0., 20., 0.],\n",
    "[10., 0., 0., 5., 50.]"
   ]
  },
  {
   "cell_type": "markdown",
   "metadata": {},
   "source": [
    "TRANSPOSE\n",
    "* A(M, N), b(N)\n",
    "* A.T ==> (N, M)\n",
    "Transpose: COLUMNS -> rows, ROWS -> columns\n",
    "[1, 2, 3, 4, 5, 6, ... N] -> (1, N) ==> (N, 1)\n",
    "\n",
    "Transpose of a Vector : COLUMN vector\n",
    "[[1.],\n",
    "[2.],\n",
    "[3.],\n",
    "[4.],\n",
    "[5.],\n",
    "[6.],\n",
    ".\n",
    ".\n",
    ".\n",
    "[N.]]"
   ]
  },
  {
   "cell_type": "code",
   "execution_count": 44,
   "metadata": {},
   "outputs": [
    {
     "data": {
      "text/plain": [
       "(tensor([[ 1.,  1.,  2.,  2.,  3.],\n",
       "         [ 0.,  0.,  5.,  4.,  0.],\n",
       "         [10.,  0.,  1.,  1.,  5.]], device='cuda:0'),\n",
       " torch.Size([3, 5]))"
      ]
     },
     "execution_count": 44,
     "metadata": {},
     "output_type": "execute_result"
    }
   ],
   "source": [
    "M, M.shape"
   ]
  },
  {
   "cell_type": "code",
   "execution_count": 45,
   "metadata": {},
   "outputs": [
    {
     "data": {
      "text/plain": [
       "(tensor([[ 1.,  0., 10.],\n",
       "         [ 1.,  0.,  0.],\n",
       "         [ 2.,  5.,  1.],\n",
       "         [ 2.,  4.,  1.],\n",
       "         [ 3.,  0.,  5.]], device='cuda:0'),\n",
       " torch.Size([5, 3]))"
      ]
     },
     "execution_count": 45,
     "metadata": {},
     "output_type": "execute_result"
    }
   ],
   "source": [
    "MT = M.T\n",
    "MT, MT.shape"
   ]
  },
  {
   "cell_type": "code",
   "execution_count": 48,
   "metadata": {},
   "outputs": [
    {
     "data": {
      "text/plain": [
       "(tensor([[ 1.,  3.,  0.,  5., 10.]], device='cuda:0'), torch.Size([1, 5]), 2)"
      ]
     },
     "execution_count": 48,
     "metadata": {},
     "output_type": "execute_result"
    }
   ],
   "source": [
    "v = torch.tensor([[1, 3, 0, 5, 10]], dtype=DTYPE, device=DEVICE)\n",
    "v, v.shape, v.ndim"
   ]
  },
  {
   "cell_type": "code",
   "execution_count": 49,
   "metadata": {},
   "outputs": [
    {
     "data": {
      "text/plain": [
       "(tensor([[ 1.],\n",
       "         [ 3.],\n",
       "         [ 0.],\n",
       "         [ 5.],\n",
       "         [10.]], device='cuda:0'),\n",
       " torch.Size([5, 1]))"
      ]
     },
     "execution_count": 49,
     "metadata": {},
     "output_type": "execute_result"
    }
   ],
   "source": [
    "vT = v.T\n",
    "vT, vT.shape"
   ]
  }
 ],
 "metadata": {
  "kernelspec": {
   "display_name": "torch",
   "language": "python",
   "name": "python3"
  },
  "language_info": {
   "codemirror_mode": {
    "name": "ipython",
    "version": 3
   },
   "file_extension": ".py",
   "mimetype": "text/x-python",
   "name": "python",
   "nbconvert_exporter": "python",
   "pygments_lexer": "ipython3",
   "version": "3.12.4"
  }
 },
 "nbformat": 4,
 "nbformat_minor": 2
}
